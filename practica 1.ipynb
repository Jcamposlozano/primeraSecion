{
 "cells": [
  {
   "cell_type": "code",
   "execution_count": 1,
   "metadata": {},
   "outputs": [
    {
     "name": "stdout",
     "output_type": "stream",
     "text": [
      "Hola mundo\n"
     ]
    }
   ],
   "source": [
    "print(\"Hola mundo\")"
   ]
  },
  {
   "cell_type": "markdown",
   "metadata": {},
   "source": [
    "### EJERCICIO 1"
   ]
  },
  {
   "cell_type": "code",
   "execution_count": 5,
   "metadata": {},
   "outputs": [
    {
     "name": "stdout",
     "output_type": "stream",
     "text": [
      "Puede tomar cerveza\n"
     ]
    }
   ],
   "source": [
    "edad = 18\n",
    "if edad>=18:\n",
    "    print(\"Puede tomar cerveza\")\n",
    "else:\n",
    "    print(\"No puede tomar cerveza y llamamos a la mamá\")"
   ]
  },
  {
   "cell_type": "code",
   "execution_count": 9,
   "metadata": {},
   "outputs": [
    {
     "name": "stdout",
     "output_type": "stream",
     "text": [
      "Ingrese su edad 18\n",
      "Puede tomar cerveza\n"
     ]
    }
   ],
   "source": [
    "#Se utiliza un input con casteo de string a numero entero\n",
    "\n",
    "edad = int(input(\"Ingrese su edad \"))\n",
    "if edad>=18:\n",
    "    print(\"Puede tomar cerveza\")\n",
    "else:\n",
    "    print(\"No puede tomar cerveza y llamamos a la mamá\")"
   ]
  },
  {
   "cell_type": "markdown",
   "metadata": {},
   "source": [
    "### Ejercicio 2"
   ]
  },
  {
   "cell_type": "code",
   "execution_count": 19,
   "metadata": {},
   "outputs": [
    {
     "name": "stdout",
     "output_type": "stream",
     "text": [
      "comprar BUDWEISER\n"
     ]
    }
   ],
   "source": [
    "marca = \"Budweiser\".upper()\n",
    "if marca == \"BUDWEISER\":\n",
    "    print(\"comprar \" + marca)\n",
    "elif marca == \"AGUILA\":  \n",
    "    print(\"comprar \" + marca)\n",
    "else:\n",
    "    print(\"no compro nada\")\n"
   ]
  },
  {
   "cell_type": "markdown",
   "metadata": {},
   "source": [
    "## ejercicio 2 con ingreso por teclado"
   ]
  },
  {
   "cell_type": "code",
   "execution_count": 23,
   "metadata": {},
   "outputs": [
    {
     "name": "stdout",
     "output_type": "stream",
     "text": [
      "Ingrese la marca que busca :budweiser$\n",
      "comprar BUDWEISER\n"
     ]
    }
   ],
   "source": [
    "marca = input(\"Ingrese la marca que busca :\").upper().replace(\"$\",\"\")\n",
    "if marca == \"BUDWEISER\":\n",
    "    print(\"comprar \" + marca)\n",
    "elif marca == \"AGUILA\":  \n",
    "    print(\"comprar \" + marca)\n",
    "else:\n",
    "    print(\"no compro nada\")"
   ]
  },
  {
   "cell_type": "markdown",
   "metadata": {},
   "source": [
    "#### Ejercicio 3"
   ]
  },
  {
   "cell_type": "code",
   "execution_count": 26,
   "metadata": {},
   "outputs": [
    {
     "name": "stdout",
     "output_type": "stream",
     "text": [
      "el valor es  10\n"
     ]
    }
   ],
   "source": [
    "valor = 10\n",
    "\n",
    "# forma 1\n",
    "#print(\"el valor es \" + str(valor))\n",
    "\n",
    "# forma 2 recomendada\n",
    "print(\"el valor es \",valor)"
   ]
  },
  {
   "cell_type": "code",
   "execution_count": 27,
   "metadata": {},
   "outputs": [
    {
     "name": "stdout",
     "output_type": "stream",
     "text": [
      "¿Por que cuadra tengo que girar?: carrera 11\n",
      "Giro por la  carrera 11\n"
     ]
    }
   ],
   "source": [
    "giro = input(\"¿Por que cuadra tengo que girar?: \")\n",
    "\n",
    "if giro == \"carrera 9\":\n",
    "    print(\"Giro por la \", giro)\n",
    "if giro == \"carrera 10\":\n",
    "    print(\"Giro por la \", giro)\n",
    "if giro == \"carrera 11\":\n",
    "    print(\"Giro por la \", giro)"
   ]
  },
  {
   "cell_type": "markdown",
   "metadata": {},
   "source": [
    "### Ejercicio 4"
   ]
  },
  {
   "cell_type": "code",
   "execution_count": 4,
   "metadata": {},
   "outputs": [
    {
     "name": "stdout",
     "output_type": "stream",
     "text": [
      "1\n",
      "4\n",
      "7\n",
      "10\n"
     ]
    }
   ],
   "source": [
    "# for (let i =0;i>11;i++)\n",
    "\n",
    "for i in range(1,12,3):\n",
    "    print(i)"
   ]
  },
  {
   "cell_type": "code",
   "execution_count": 9,
   "metadata": {},
   "outputs": [
    {
     "name": "stdout",
     "output_type": "stream",
     "text": [
      "7  *  1  =  7\n",
      "7  *  2  =  14\n",
      "7  *  3  =  21\n",
      "7  *  4  =  28\n",
      "7  *  5  =  35\n",
      "7  *  6  =  42\n",
      "7  *  7  =  49\n",
      "7  *  8  =  56\n",
      "7  *  9  =  63\n",
      "7  *  10  =  70\n"
     ]
    }
   ],
   "source": [
    "tabla = 7\n",
    "for i in range(1,11):\n",
    "    repuesta = i* tabla\n",
    "    print(tabla,' * ',i,' = ', repuesta)"
   ]
  },
  {
   "cell_type": "code",
   "execution_count": 11,
   "metadata": {},
   "outputs": [
    {
     "name": "stdout",
     "output_type": "stream",
     "text": [
      "1  *  1  =  1\n",
      "2  *  1  =  2\n",
      "3  *  1  =  3\n",
      "4  *  1  =  4\n",
      "5  *  1  =  5\n",
      "6  *  1  =  6\n",
      "7  *  1  =  7\n",
      "8  *  1  =  8\n",
      "9  *  1  =  9\n",
      "10  *  1  =  10\n",
      "*****************************\n",
      "1  *  2  =  2\n",
      "2  *  2  =  4\n",
      "3  *  2  =  6\n",
      "4  *  2  =  8\n",
      "5  *  2  =  10\n",
      "6  *  2  =  12\n",
      "7  *  2  =  14\n",
      "8  *  2  =  16\n",
      "9  *  2  =  18\n",
      "10  *  2  =  20\n",
      "*****************************\n",
      "1  *  3  =  3\n",
      "2  *  3  =  6\n",
      "3  *  3  =  9\n",
      "4  *  3  =  12\n",
      "5  *  3  =  15\n",
      "6  *  3  =  18\n",
      "7  *  3  =  21\n",
      "8  *  3  =  24\n",
      "9  *  3  =  27\n",
      "10  *  3  =  30\n",
      "*****************************\n",
      "1  *  4  =  4\n",
      "2  *  4  =  8\n",
      "3  *  4  =  12\n",
      "4  *  4  =  16\n",
      "5  *  4  =  20\n",
      "6  *  4  =  24\n",
      "7  *  4  =  28\n",
      "8  *  4  =  32\n",
      "9  *  4  =  36\n",
      "10  *  4  =  40\n",
      "*****************************\n",
      "1  *  5  =  5\n",
      "2  *  5  =  10\n",
      "3  *  5  =  15\n",
      "4  *  5  =  20\n",
      "5  *  5  =  25\n",
      "6  *  5  =  30\n",
      "7  *  5  =  35\n",
      "8  *  5  =  40\n",
      "9  *  5  =  45\n",
      "10  *  5  =  50\n",
      "*****************************\n",
      "1  *  6  =  6\n",
      "2  *  6  =  12\n",
      "3  *  6  =  18\n",
      "4  *  6  =  24\n",
      "5  *  6  =  30\n",
      "6  *  6  =  36\n",
      "7  *  6  =  42\n",
      "8  *  6  =  48\n",
      "9  *  6  =  54\n",
      "10  *  6  =  60\n",
      "*****************************\n",
      "1  *  7  =  7\n",
      "2  *  7  =  14\n",
      "3  *  7  =  21\n",
      "4  *  7  =  28\n",
      "5  *  7  =  35\n",
      "6  *  7  =  42\n",
      "7  *  7  =  49\n",
      "8  *  7  =  56\n",
      "9  *  7  =  63\n",
      "10  *  7  =  70\n",
      "*****************************\n",
      "1  *  8  =  8\n",
      "2  *  8  =  16\n",
      "3  *  8  =  24\n",
      "4  *  8  =  32\n",
      "5  *  8  =  40\n",
      "6  *  8  =  48\n",
      "7  *  8  =  56\n",
      "8  *  8  =  64\n",
      "9  *  8  =  72\n",
      "10  *  8  =  80\n",
      "*****************************\n",
      "1  *  9  =  9\n",
      "2  *  9  =  18\n",
      "3  *  9  =  27\n",
      "4  *  9  =  36\n",
      "5  *  9  =  45\n",
      "6  *  9  =  54\n",
      "7  *  9  =  63\n",
      "8  *  9  =  72\n",
      "9  *  9  =  81\n",
      "10  *  9  =  90\n",
      "*****************************\n",
      "1  *  10  =  10\n",
      "2  *  10  =  20\n",
      "3  *  10  =  30\n",
      "4  *  10  =  40\n",
      "5  *  10  =  50\n",
      "6  *  10  =  60\n",
      "7  *  10  =  70\n",
      "8  *  10  =  80\n",
      "9  *  10  =  90\n",
      "10  *  10  =  100\n",
      "*****************************\n"
     ]
    }
   ],
   "source": [
    "for i in range(1,11):\n",
    "    for j in range(1,11):\n",
    "        repuesta = i* j\n",
    "        print(j,' * ',i,' = ', repuesta)\n",
    "    print ('*****************************')"
   ]
  },
  {
   "cell_type": "code",
   "execution_count": null,
   "metadata": {},
   "outputs": [],
   "source": []
  }
 ],
 "metadata": {
  "kernelspec": {
   "display_name": "Python 3",
   "language": "python",
   "name": "python3"
  },
  "language_info": {
   "codemirror_mode": {
    "name": "ipython",
    "version": 3
   },
   "file_extension": ".py",
   "mimetype": "text/x-python",
   "name": "python",
   "nbconvert_exporter": "python",
   "pygments_lexer": "ipython3",
   "version": "3.7.4"
  }
 },
 "nbformat": 4,
 "nbformat_minor": 2
}
