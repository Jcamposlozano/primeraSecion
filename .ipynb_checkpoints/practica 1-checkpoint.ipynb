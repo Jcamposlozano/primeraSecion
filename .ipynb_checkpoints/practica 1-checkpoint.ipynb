{
 "cells": [
  {
   "cell_type": "code",
   "execution_count": 1,
   "metadata": {},
   "outputs": [
    {
     "name": "stdout",
     "output_type": "stream",
     "text": [
      "Hola mundo\n"
     ]
    }
   ],
   "source": [
    "print(\"Hola mundo\")"
   ]
  },
  {
   "cell_type": "markdown",
   "metadata": {},
   "source": [
    "### EJERCICIO 1"
   ]
  },
  {
   "cell_type": "code",
   "execution_count": 5,
   "metadata": {},
   "outputs": [
    {
     "name": "stdout",
     "output_type": "stream",
     "text": [
      "Puede tomar cerveza\n"
     ]
    }
   ],
   "source": [
    "edad = 18\n",
    "if edad>=18:\n",
    "    print(\"Puede tomar cerveza\")\n",
    "else:\n",
    "    print(\"No puede tomar cerveza y llamamos a la mamá\")"
   ]
  },
  {
   "cell_type": "code",
   "execution_count": 9,
   "metadata": {},
   "outputs": [
    {
     "name": "stdout",
     "output_type": "stream",
     "text": [
      "Ingrese su edad 18\n",
      "Puede tomar cerveza\n"
     ]
    }
   ],
   "source": [
    "#Se utiliza un input con casteo de string a numero entero\n",
    "\n",
    "edad = int(input(\"Ingrese su edad \"))\n",
    "if edad>=18:\n",
    "    print(\"Puede tomar cerveza\")\n",
    "else:\n",
    "    print(\"No puede tomar cerveza y llamamos a la mamá\")"
   ]
  },
  {
   "cell_type": "markdown",
   "metadata": {},
   "source": [
    "### Ejercicio 2"
   ]
  },
  {
   "cell_type": "code",
   "execution_count": 19,
   "metadata": {},
   "outputs": [
    {
     "name": "stdout",
     "output_type": "stream",
     "text": [
      "comprar BUDWEISER\n"
     ]
    }
   ],
   "source": [
    "marca = \"Budweiser\".upper()\n",
    "if marca == \"BUDWEISER\":\n",
    "    print(\"comprar \" + marca)\n",
    "elif marca == \"AGUILA\":  \n",
    "    print(\"comprar \" + marca)\n",
    "else:\n",
    "    print(\"no compro nada\")\n"
   ]
  },
  {
   "cell_type": "markdown",
   "metadata": {},
   "source": [
    "## ejercicio 2 con ingreso por teclado"
   ]
  },
  {
   "cell_type": "code",
   "execution_count": 23,
   "metadata": {},
   "outputs": [
    {
     "name": "stdout",
     "output_type": "stream",
     "text": [
      "Ingrese la marca que busca :budweiser$\n",
      "comprar BUDWEISER\n"
     ]
    }
   ],
   "source": [
    "marca = input(\"Ingrese la marca que busca :\").upper().replace(\"$\",\"\")\n",
    "if marca == \"BUDWEISER\":\n",
    "    print(\"comprar \" + marca)\n",
    "elif marca == \"AGUILA\":  \n",
    "    print(\"comprar \" + marca)\n",
    "else:\n",
    "    print(\"no compro nada\")"
   ]
  },
  {
   "cell_type": "markdown",
   "metadata": {},
   "source": [
    "#### Ejercicio 3"
   ]
  },
  {
   "cell_type": "code",
   "execution_count": 26,
   "metadata": {},
   "outputs": [
    {
     "name": "stdout",
     "output_type": "stream",
     "text": [
      "el valor es  10\n"
     ]
    }
   ],
   "source": [
    "valor = 10\n",
    "\n",
    "# forma 1\n",
    "#print(\"el valor es \" + str(valor))\n",
    "\n",
    "# forma 2 recomendada\n",
    "print(\"el valor es \",valor)"
   ]
  },
  {
   "cell_type": "code",
   "execution_count": 27,
   "metadata": {},
   "outputs": [
    {
     "name": "stdout",
     "output_type": "stream",
     "text": [
      "¿Por que cuadra tengo que girar?: carrera 11\n",
      "Giro por la  carrera 11\n"
     ]
    }
   ],
   "source": [
    "giro = input(\"¿Por que cuadra tengo que girar?: \")\n",
    "\n",
    "if giro == \"carrera 9\":\n",
    "    print(\"Giro por la \", giro)\n",
    "if giro == \"carrera 10\":\n",
    "    print(\"Giro por la \", giro)\n",
    "if giro == \"carrera 11\":\n",
    "    print(\"Giro por la \", giro)"
   ]
  },
  {
   "cell_type": "markdown",
   "metadata": {},
   "source": [
    "### Ejercicio 4"
   ]
  },
  {
   "cell_type": "code",
   "execution_count": null,
   "metadata": {},
   "outputs": [],
   "source": []
  }
 ],
 "metadata": {
  "kernelspec": {
   "display_name": "Python 3",
   "language": "python",
   "name": "python3"
  },
  "language_info": {
   "codemirror_mode": {
    "name": "ipython",
    "version": 3
   },
   "file_extension": ".py",
   "mimetype": "text/x-python",
   "name": "python",
   "nbconvert_exporter": "python",
   "pygments_lexer": "ipython3",
   "version": "3.7.4"
  }
 },
 "nbformat": 4,
 "nbformat_minor": 2
}
